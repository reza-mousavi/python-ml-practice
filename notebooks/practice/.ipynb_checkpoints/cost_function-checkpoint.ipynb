{
 "cells": [
  {
   "cell_type": "markdown",
   "id": "ea49dc0d7e497e19",
   "metadata": {
    "collapsed": false,
    "jupyter": {
     "outputs_hidden": false
    }
   },
   "source": [
    "# Cost Function"
   ]
  },
  {
   "cell_type": "markdown",
   "id": "cbea7fe2861aab74",
   "metadata": {
    "collapsed": false,
    "jupyter": {
     "outputs_hidden": false
    }
   },
   "source": [
    "## Definition\n",
    "If we have a line as y = ax + b, y = wx +b a as referenced in the course, the cost function could be outlined as the following\n",
    "\n",
    "$$J(w,b) = \\frac{1}{2m} \\sum\\limits_{i = 0}^{m-1} (f_{w,b}(x^{(i)}) - y^{(i)})^2\\tag{2}$$ \n",
    "  "
   ]
  },
  {
   "cell_type": "code",
   "execution_count": null,
   "id": "29dda5752a1c1928",
   "metadata": {
    "ExecuteTime": {
     "end_time": "2024-05-24T10:57:52.704282Z",
     "start_time": "2024-05-24T10:57:52.497313Z"
    },
    "collapsed": false,
    "jupyter": {
     "outputs_hidden": false
    }
   },
   "outputs": [],
   "source": [
    "import app.regression as ar\n",
    "import matplotlib.pyplot as plt\n",
    "\n",
    "fig, ax = plt.subplots()\n",
    "plt.axhline(0, color='b')\n",
    "plt.axvline(0, color='b')\n",
    "\n",
    "l = ar.Feature(-2, 1)\n",
    "xs = range(-10, 10)\n",
    "ys = [ar.actual_y(x, l) for x in xs]\n",
    "\n",
    "ax.plot(xs, ys, label='y')\n",
    "\n",
    "ax.set_title('Function (1*x + 1)')\n",
    "ax.set_xlabel('X')\n",
    "ax.set_ylabel('Y')\n",
    "ax.legend()\n",
    "\n",
    "train_data = [ar.Point(-9, -10.3), ar.Point(-7.5, -5), ar.Point(-5, -4.75), ar.Point(3, 2), \n",
    "              ar.Point(4, 5), ar.Point(5, 7), ar.Point(6, 8.3), ar.Point(7.5, 8.1)]\n",
    "\n",
    "for train_datum in train_data:\n",
    "    plt.plot(train_datum.x, train_datum.y, \"s\")\n",
    "\n",
    "cost = ar.cost(train_data, l)\n",
    "print(f\"cost 1 is : {cost}\")\n",
    "\n",
    "\n",
    "fig2, ax2 = plt.subplots()\n",
    "plt.axhline(0, color='b')\n",
    "plt.axvline(0, color='b')\n",
    "\n",
    "cxs = list(range(-10, 13))\n",
    "cys = [ar.cost(train_data, ar.Feature(x, 0)) for x in cxs]\n",
    "ax2.plot(cxs, cys, label='cost')\n",
    "ax2.set_title('Cost Function')\n",
    "ax2.set_xlabel('X')\n",
    "ax2.set_ylabel('Y')\n",
    "ax2.legend()\n",
    "\n",
    "def cost(points: list[ar.Point], feature: ar.Feature):\n",
    "    res = 0.0\n",
    "    for pt in points:\n",
    "        act = ar.actual_y(pt.x, feature)\n",
    "        res += pow(act - pt.y, 2)\n",
    "    m = len(points)\n",
    "    res = res / (2 * m)\n",
    "    return res\n",
    "\n",
    "for cx in cxs:\n",
    "    cst = cost(train_data, ar.Feature(cx, 0))\n",
    "    print(f\"x {cx}, y: {cst}\")"
   ]
  },
  {
   "cell_type": "markdown",
   "id": "359c5fcfd32595a",
   "metadata": {
    "collapsed": false,
    "jupyter": {
     "outputs_hidden": false
    }
   },
   "source": [
    "## Cost Function Using Numpy\n",
    "\n",
    "In order to use numpy we should see how many features do we have\n",
    "So for y = ax + b we need the following structure\n",
    "- y : ndarray\n",
    "- a : ndarray\n",
    "- b : scalar\n"
   ]
  },
  {
   "cell_type": "code",
   "execution_count": null,
   "id": "34d016c3fb2845cc",
   "metadata": {
    "ExecuteTime": {
     "end_time": "2024-05-24T11:18:48.555328Z",
     "start_time": "2024-05-24T11:18:48.449044Z"
    },
    "collapsed": false,
    "jupyter": {
     "outputs_hidden": false
    }
   },
   "outputs": [],
   "source": [
    "import numpy as np\n",
    "import matplotlib.pyplot as plt\n",
    "\n",
    "xs = np.array([-9, -7.5, -5, 3, 4, 5, 6, 7.5])\n",
    "ys = np.array([-10.3, -5, -4.75, 2, 5, 7, 8.3, 8.1])\n",
    "\n",
    "_, ax = plt.subplots()\n",
    "plt.axhline(0, color='b')\n",
    "plt.axvline(0, color='b')\n",
    "\n",
    "ax.set_title('Function (1*x + 1)')\n",
    "ax.set_xlabel('X')\n",
    "ax.set_ylabel('Y')\n",
    "ax.legend()\n",
    "\n",
    "plt.plot(xs, ys, \"s\")\n",
    "\n",
    "#a = -2, b = 1\n",
    "m = len(xs)\n",
    "guess = xs * -2 -1\n",
    "errys_sq = (guess - ys) ** 2\n",
    "print(f\"xs    : {xs}\")    \n",
    "print(f\"ys    : {ys}\")\n",
    "print(\"formulae is y=-1x-1\")\n",
    "print(f\"guess : {guess}\")    \n",
    "print(f\"rest :  {errys_sq}\") \n",
    "print(sum(errys_sq) / 2 * m)\n",
    "\n",
    "cxs = list(range(-10, 13))\n",
    "\n",
    "for cx in cxs:\n",
    "    m = len(xs)\n",
    "    guess = xs * cx + 0\n",
    "    errys_sq = (guess - ys) ** 2\n",
    "    cst =sum(errys_sq) / (2 * m)\n",
    "    print(f\"x {cx}, y: {cst}\")"
   ]
  },
  {
   "cell_type": "code",
   "execution_count": null,
   "id": "5891e1ac74ac4b87",
   "metadata": {
    "collapsed": false,
    "jupyter": {
     "outputs_hidden": false
    }
   },
   "outputs": [],
   "source": []
  }
 ],
 "metadata": {
  "kernelspec": {
   "display_name": "Python 3 (ipykernel)",
   "language": "python",
   "name": "python3"
  },
  "language_info": {
   "codemirror_mode": {
    "name": "ipython",
    "version": 3
   },
   "file_extension": ".py",
   "mimetype": "text/x-python",
   "name": "python",
   "nbconvert_exporter": "python",
   "pygments_lexer": "ipython3",
   "version": "3.12.4"
  }
 },
 "nbformat": 4,
 "nbformat_minor": 5
}
