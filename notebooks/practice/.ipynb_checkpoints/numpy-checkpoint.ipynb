{
 "cells": [
  {
   "cell_type": "code",
   "execution_count": null,
   "id": "initial_id",
   "metadata": {},
   "outputs": [],
   "source": [
    "# Numpy"
   ]
  },
  {
   "cell_type": "code",
   "execution_count": null,
   "id": "335868b21597350a",
   "metadata": {
    "ExecuteTime": {
     "end_time": "2024-05-23T12:52:04.596969Z",
     "start_time": "2024-05-23T12:52:01.161191Z"
    },
    "collapsed": false,
    "jupyter": {
     "outputs_hidden": false
    }
   },
   "outputs": [],
   "source": [
    "import numpy as np\n",
    "import time \n",
    "\n",
    "\n",
    "def my_dot(a, b): \n",
    "    \"\"\"\n",
    "   Compute the dot product of two vectors\n",
    " \n",
    "    Args:\n",
    "      a (ndarray (n,)):  input vector \n",
    "      b (ndarray (n,)):  input vector with same dimension as a\n",
    "    \n",
    "    Returns:\n",
    "      x (scalar): \n",
    "    \"\"\"\n",
    "    x=0\n",
    "    for i in range(a.shape[0]):\n",
    "        x = x + a[i] * b[i]\n",
    "    return x\n",
    "\n",
    "np.random.seed(1)\n",
    "a = np.random.rand(10000000)  # very large arrays\n",
    "b = np.random.rand(10000000)\n",
    "\n",
    "tic = time.time()  # capture start time\n",
    "c = np.dot(a, b)\n",
    "toc = time.time()  # capture end time\n",
    "\n",
    "print(f\"np.dot(a, b) =  {c:.4f}\")\n",
    "print(f\"Vectorized version duration: {1000*(toc-tic):.4f} ms \")\n",
    "\n",
    "tic = time.time()  # capture start time\n",
    "c = my_dot(a,b)\n",
    "toc = time.time()  # capture end time\n",
    "\n",
    "print(f\"my_dot(a, b) =  {c:.4f}\")\n",
    "print(f\"loop version duration: {1000*(toc-tic):.4f} ms \")\n",
    "\n",
    "del(a);del(b)  #remove these big arrays from memory"
   ]
  },
  {
   "cell_type": "markdown",
   "id": "a8ec79f183b6ab13",
   "metadata": {
    "collapsed": false,
    "jupyter": {
     "outputs_hidden": false
    }
   },
   "source": [
    "## Creation\n",
    "\n",
    "You can create arrays in different ways\n",
    "- from List\n",
    "- from zero\n",
    "- from a range\n",
    "- from random"
   ]
  },
  {
   "cell_type": "code",
   "execution_count": null,
   "id": "f8cdb8132501116e",
   "metadata": {
    "ExecuteTime": {
     "end_time": "2024-05-24T10:00:47.233101Z",
     "start_time": "2024-05-24T10:00:47.228060Z"
    },
    "collapsed": false,
    "jupyter": {
     "outputs_hidden": false
    }
   },
   "outputs": [],
   "source": [
    "import numpy as np\n",
    "\n",
    "arr = np.array([4, 1, 2, 3])\n",
    "print(f\"Array of list (4) as : {arr}\")\n",
    "\n",
    "arr = np.zeros((4))\n",
    "print(f\"Array of list (4) as : {arr}\")\n",
    "\n",
    "arr = np.arange(1, 10, 2)\n",
    "print(f\"Array of range (4) as : {arr}\")"
   ]
  },
  {
   "cell_type": "markdown",
   "id": "6676599cba078b34",
   "metadata": {
    "collapsed": false,
    "jupyter": {
     "outputs_hidden": false
    }
   },
   "source": [
    "## Zeros\n",
    "\n",
    "Helps to create and array of Zeros using shape function"
   ]
  },
  {
   "cell_type": "code",
   "execution_count": null,
   "id": "d7a00aa79599a4ae",
   "metadata": {
    "ExecuteTime": {
     "end_time": "2024-05-24T09:55:45.289635Z",
     "start_time": "2024-05-24T09:55:45.283071Z"
    },
    "collapsed": false,
    "jupyter": {
     "outputs_hidden": false
    }
   },
   "outputs": [],
   "source": [
    "import numpy as np\n",
    "\n",
    "arr = np.zeros(4)\n",
    "print(f\"Array of zeros (4) as : {arr}\")\n",
    "\n",
    "arr = np.zeros((4, ))\n",
    "print(f\"Array of zeros (4, ) as : {arr}\")\n",
    "\n",
    "arr = np.zeros((1, 4))\n",
    "print(f\"Array of zeros (1, 4) as : {arr}\")\n",
    "\n",
    "arr = np.zeros((5,), dtype=int)\n",
    "print(f\"Array of zeros (5, ) of int as : {arr}\")\n",
    "\n",
    "arr = np.zeros((4, 1))\n",
    "print(f\"Array of zeros (4, 1) as : {arr}\")\n",
    "\n",
    "arr = np.zeros((4, 2))\n",
    "print(f\"Array of zeros (4, 2) as : {arr}\")\n"
   ]
  },
  {
   "cell_type": "code",
   "execution_count": null,
   "id": "2f7dd409eb565882",
   "metadata": {
    "ExecuteTime": {
     "end_time": "2024-05-24T10:03:42.058680Z",
     "start_time": "2024-05-24T10:03:42.051835Z"
    },
    "collapsed": false,
    "jupyter": {
     "outputs_hidden": false
    }
   },
   "outputs": [],
   "source": [
    "## Reshape\n",
    "import numpy as np\n",
    "\n",
    "org = np.arange(0, 1000)\n",
    "print(f\"Array of range (100) as : {org.shape}\")\n",
    "arr = org.reshape((50, 20))\n",
    "print(f\"Array of range (100) as : {arr.shape}\")\n",
    "arr = org.reshape((4, 250))\n",
    "print(f\"Array of range (100) as : {arr.shape}\")\n",
    "print(arr[0, 1])\n",
    "print(arr[0])\n",
    "print(arr[0]/255)\n"
   ]
  },
  {
   "cell_type": "markdown",
   "id": "4daa7ac4aa547fca",
   "metadata": {
    "collapsed": false,
    "jupyter": {
     "outputs_hidden": false
    }
   },
   "source": [
    "## Operations\n",
    "\n",
    "Arrays are like other datatypes and according to their mathematical difinition, they should support the following operations\n",
    "- Addition (Two Arrays, Scalars)\n",
    "- Subtract (Two Arrays, Scalars)\n",
    "- Multiplication (Two Arrays, Scalars)\n",
    "- Division (Two Arrays, Scalars)\n",
    "- Power (Two Arrays, Scalars)\n"
   ]
  },
  {
   "cell_type": "code",
   "execution_count": null,
   "id": "3d83f7b5c6bf3859",
   "metadata": {
    "ExecuteTime": {
     "end_time": "2024-05-24T10:47:34.474624Z",
     "start_time": "2024-05-24T10:47:34.469374Z"
    },
    "collapsed": false,
    "jupyter": {
     "outputs_hidden": false
    }
   },
   "outputs": [],
   "source": [
    "arr1 = np.arange(0, 20, 2)\n",
    "arr2 = np.arange(1, 20, 2)\n",
    "print(arr1)\n",
    "print(arr2)\n",
    "print(arr1 + 10) #scalar\n",
    "print(arr1 - 10) #scalar\n",
    "print(arr1 * 10) #scalar\n",
    "print(arr1 / 10) #scalar\n",
    "print(arr1 + arr2) # adding arrays\n",
    "print(arr1 * arr2) # multiplying arrays\n",
    "print(arr1 / arr2) # dividing arrays\n",
    "print(arr1 ** 2) # multiplying arrays"
   ]
  },
  {
   "cell_type": "markdown",
   "id": "1b93ecf23cc22e23",
   "metadata": {
    "collapsed": false,
    "jupyter": {
     "outputs_hidden": false
    }
   },
   "source": [
    "## Matrix\n"
   ]
  },
  {
   "cell_type": "code",
   "execution_count": null,
   "id": "596e958706885e02",
   "metadata": {
    "ExecuteTime": {
     "end_time": "2024-05-24T10:54:20.101961Z",
     "start_time": "2024-05-24T10:54:20.095806Z"
    },
    "collapsed": false,
    "jupyter": {
     "outputs_hidden": false
    }
   },
   "outputs": [],
   "source": [
    "arr1 = np.arange(0, 20)\n",
    "arr2 = np.arange(20, 40)\n",
    "print(arr1)\n",
    "print(arr2)\n",
    "\n",
    "arr3 = arr1.dot(arr2) # 1*1 #Sum(i * j)\n",
    "print(f\"result (  1 *  1 ) : {arr3}\") \n",
    "\n",
    "arr2_t = arr2.reshape((20, 1))\n",
    "arr3 = arr1.dot(arr2_t) # 1*1 : Matrix\n",
    "print(arr1)\n",
    "print(arr2)\n",
    "print(f\"result (  1 *  1 ) : {arr3}\") \n",
    "\n",
    "arr1 = arr1.reshape((4, 5))\n",
    "arr2 = arr2.reshape((5, 4))\n",
    "\n",
    "print(arr1)\n",
    "print(arr2)\n",
    "print(f\"result (  4 *  4 ) : {arr1.dot(arr2)}\") \n"
   ]
  },
  {
   "cell_type": "code",
   "execution_count": null,
   "id": "e79ebd3f768dc560",
   "metadata": {
    "ExecuteTime": {
     "end_time": "2024-05-24T10:50:23.964322Z",
     "start_time": "2024-05-24T10:50:23.959817Z"
    },
    "collapsed": false,
    "jupyter": {
     "outputs_hidden": false
    }
   },
   "outputs": [],
   "source": [
    "arr1 = arr1.reshape((4, 5))\n",
    "arr2 = arr2.reshape((5, 4))\n",
    "arr3 = arr1.dot(arr2) # 4*4\n",
    "\n",
    "print(arr1)\n",
    "print(arr2)\n",
    "print(arr3)"
   ]
  },
  {
   "cell_type": "code",
   "execution_count": null,
   "id": "f8843fc7479288cf",
   "metadata": {
    "collapsed": false,
    "jupyter": {
     "outputs_hidden": false
    }
   },
   "outputs": [],
   "source": []
  }
 ],
 "metadata": {
  "kernelspec": {
   "display_name": "Python 3 (ipykernel)",
   "language": "python",
   "name": "python3"
  },
  "language_info": {
   "codemirror_mode": {
    "name": "ipython",
    "version": 3
   },
   "file_extension": ".py",
   "mimetype": "text/x-python",
   "name": "python",
   "nbconvert_exporter": "python",
   "pygments_lexer": "ipython3",
   "version": "3.12.4"
  }
 },
 "nbformat": 4,
 "nbformat_minor": 5
}
