{
 "cells": [
  {
   "cell_type": "markdown",
   "id": "6d760fe9aae7ac34",
   "metadata": {
    "collapsed": false,
    "jupyter": {
     "outputs_hidden": false
    }
   },
   "source": [
    "# Scikit-learn"
   ]
  },
  {
   "cell_type": "code",
   "execution_count": null,
   "id": "b1af1872df55ad7b",
   "metadata": {
    "ExecuteTime": {
     "end_time": "2024-05-23T10:43:02.390409Z",
     "start_time": "2024-05-23T10:43:01.391660Z"
    },
    "collapsed": false,
    "jupyter": {
     "outputs_hidden": false
    }
   },
   "outputs": [],
   "source": [
    "import sklearn\n",
    "\n",
    "print(f\"Version is : {sklearn.__version__}\")"
   ]
  },
  {
   "cell_type": "code",
   "execution_count": null,
   "id": "bf87cbad7db44ef",
   "metadata": {
    "ExecuteTime": {
     "end_time": "2024-05-23T11:04:11.629584Z",
     "start_time": "2024-05-23T11:04:11.623734Z"
    },
    "collapsed": false,
    "jupyter": {
     "outputs_hidden": false
    }
   },
   "outputs": [],
   "source": [
    "from sklearn import linear_model\n",
    "\n",
    "reg = linear_model.LinearRegression()\n",
    "\n",
    "xs = [[-9], [-7.5], [-5], [3], [4], [5], [6], [7.5]]\n",
    "ys = [[-10.3], [-5], [-4.75], [2], [5], [7], [8.3], [8.1]]\n",
    "\n",
    "reg.fit(xs, ys)\n",
    "\n",
    "print(f\"Result coef : {reg.coef_} and intercept is {reg.intercept_}\")\n"
   ]
  },
  {
   "cell_type": "code",
   "execution_count": null,
   "id": "483e8c0c2f23600b",
   "metadata": {
    "ExecuteTime": {
     "end_time": "2024-05-23T11:04:41.799945Z",
     "start_time": "2024-05-23T11:04:41.794649Z"
    },
    "collapsed": false,
    "jupyter": {
     "outputs_hidden": false
    }
   },
   "outputs": [],
   "source": [
    "from sklearn import linear_model\n",
    "\n",
    "reg = linear_model.Ridge(alpha=.01)\n",
    "\n",
    "xs = [[-9], [-7.5], [-5], [3], [4], [5], [6], [7.5]]\n",
    "ys = [[-10.3], [-5], [-4.75], [2], [5], [7], [8.3], [8.1]]\n",
    "\n",
    "reg.fit(xs, ys)\n",
    "\n",
    "print(f\"Result is : {reg.coef_}\")\n",
    "print(f\"Result is : {reg.intercept_}\")"
   ]
  },
  {
   "cell_type": "markdown",
   "id": "71f128d0ca22c2b",
   "metadata": {
    "collapsed": false,
    "jupyter": {
     "outputs_hidden": false
    }
   },
   "source": [
    "## More info\n",
    "\n",
    "https://scikit-learn.org/stable/install.html\n",
    "https://scikit-learn.org/stable/modules/linear_model.html#ordinary-least-squares"
   ]
  }
 ],
 "metadata": {
  "kernelspec": {
   "display_name": "Python 3 (ipykernel)",
   "language": "python",
   "name": "python3"
  },
  "language_info": {
   "codemirror_mode": {
    "name": "ipython",
    "version": 3
   },
   "file_extension": ".py",
   "mimetype": "text/x-python",
   "name": "python",
   "nbconvert_exporter": "python",
   "pygments_lexer": "ipython3",
   "version": "3.12.4"
  }
 },
 "nbformat": 4,
 "nbformat_minor": 5
}
