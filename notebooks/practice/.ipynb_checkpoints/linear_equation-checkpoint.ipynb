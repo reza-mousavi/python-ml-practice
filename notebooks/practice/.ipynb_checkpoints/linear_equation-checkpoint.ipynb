{
 "cells": [
  {
   "cell_type": "markdown",
   "id": "ea49dc0d7e497e19",
   "metadata": {
    "collapsed": false,
    "jupyter": {
     "outputs_hidden": false
    }
   },
   "source": [
    "# Linear Equation"
   ]
  },
  {
   "cell_type": "markdown",
   "id": "94da5be00a3f7664",
   "metadata": {
    "collapsed": false,
    "jupyter": {
     "outputs_hidden": false
    }
   },
   "source": [
    "## Draw a Line\n",
    "\n",
    "In order to draw a line using Python you can try matplotlob\n"
   ]
  },
  {
   "cell_type": "code",
   "execution_count": null,
   "id": "2f4adfa2beddb808",
   "metadata": {
    "ExecuteTime": {
     "end_time": "2024-05-24T11:20:46.728817Z",
     "start_time": "2024-05-24T11:20:46.070124Z"
    },
    "collapsed": false,
    "jupyter": {
     "outputs_hidden": false
    }
   },
   "outputs": [],
   "source": [
    "import matplotlib as mpl\n",
    "import matplotlib.pyplot as plt\n",
    "import numpy as np\n",
    "\n",
    "fig, ax = plt.subplots()\n",
    "plt.axhline(0, color='b')\n",
    "plt.axvline(0, color='b')\n",
    "\n",
    "fn = lambda x: 3*x + 5\n",
    "\n",
    "xs = range(-10, 10)\n",
    "ys = [fn(x) for x in xs]\n",
    "\n",
    "ax.plot(xs, ys, label='y')\n",
    "\n",
    "ax.set_title('Function (3*x + 5)')\n",
    "ax.set_xlabel('X')\n",
    "ax.set_ylabel('Y')\n",
    "ax.legend()\n"
   ]
  },
  {
   "cell_type": "markdown",
   "id": "b110001b0b39f1cb",
   "metadata": {
    "collapsed": false,
    "jupyter": {
     "outputs_hidden": false
    }
   },
   "source": [
    "## Distance from A Line\n",
    "\n",
    "The formulae to calculate distance from a line is as the following:\n",
    "Distance of point as (x1 , y1) to the line Ax + By + C = 0 is given by = \n",
    "|Ax1 + By1 + C| / √(A2 + B2)\n",
    "\n",
    "Distance of point as (x1 , y1) to the line Y= Ax + B is given by = \n",
    "|Ax1 + C - y1| / √(A2 + 1)\n",
    "\n",
    "![distance from a line](img/distance-of-a-point-from-a-line-1621941999.png \"Distance from a Line\")\n"
   ]
  },
  {
   "cell_type": "code",
   "execution_count": null,
   "id": "95b1c4bd7005add6",
   "metadata": {
    "ExecuteTime": {
     "end_time": "2024-05-24T11:20:46.736948Z",
     "start_time": "2024-05-24T11:20:46.730875Z"
    },
    "collapsed": false,
    "jupyter": {
     "outputs_hidden": false
    }
   },
   "outputs": [],
   "source": [
    "from collections import namedtuple\n",
    "import math\n",
    "\n",
    "Point = namedtuple('Point', ['x', 'y'])\n",
    "Line = namedtuple('LineFeatures', ['a', 'b', 'c'])\n",
    "\n",
    "fn = lambda line : math.sqrt(math.pow(line.a, 2) + 1) \n",
    "l = Line(1, -1, 0)\n",
    "print(f\"Result is : {fn(l)}\")\n",
    "\n",
    "def distance(point: Point, line: Line):\n",
    "    nominator = math.fabs(line.a * point.x + line.c - point.y)\n",
    "    denominator = math.sqrt(math.pow(line.a, 2) + 1)\n",
    "    return 0 if nominator == 0 else nominator / denominator  \n",
    "    \n",
    "print(f\"Distance is : {distance(Point(0, 0), Line(1, -1, 0))}\")\n",
    "print(f\"Distance is : {distance(Point(1, 1), Line(1, -1, 0))}\")\n",
    "print(f\"Distance is : {distance(Point(1, 0), Line(1, -1, 0))}\")\n",
    "    "
   ]
  },
  {
   "cell_type": "code",
   "execution_count": null,
   "id": "3bec98fccab48ea4",
   "metadata": {
    "ExecuteTime": {
     "end_time": "2024-05-24T11:20:46.749672Z",
     "start_time": "2024-05-24T11:20:46.738022Z"
    },
    "collapsed": false,
    "jupyter": {
     "outputs_hidden": false
    }
   },
   "outputs": [],
   "source": [
    "import app.regression as ar\n",
    "\n",
    "l = ar.Feature(1, 0)\n",
    "xs = range(-10, 10)\n",
    "ys = [ar.actual_y(x, l) for x in xs]\n",
    "\n",
    "values = [ar.Point(a, b) for (a,b) in zip(xs, ys)]\n",
    "\n",
    "distances = [(ar.distance(p, l), p) for p in values]\n",
    "print(distances)\n",
    "\n",
    "print(f\"Distance P(0, 0) from Line : is {ar.distance(ar.Point(0, 0), l)}\")"
   ]
  },
  {
   "cell_type": "markdown",
   "id": "16a3db17e54a713d",
   "metadata": {
    "collapsed": false,
    "jupyter": {
     "outputs_hidden": false
    }
   },
   "source": [
    "## Visualize Distance\n",
    "\n",
    "Using matplotlib to visualize the distance\n"
   ]
  },
  {
   "cell_type": "code",
   "execution_count": null,
   "id": "a8de1fee9b28d6c",
   "metadata": {
    "ExecuteTime": {
     "end_time": "2024-05-24T11:20:46.861702Z",
     "start_time": "2024-05-24T11:20:46.750743Z"
    },
    "collapsed": false,
    "jupyter": {
     "outputs_hidden": false
    }
   },
   "outputs": [],
   "source": [
    "import matplotlib as mpl\n",
    "import matplotlib.pyplot as plt\n",
    "import numpy as np\n",
    "import app.regression as ar\n",
    "\n",
    "fig, ax = plt.subplots()\n",
    "plt.axhline(0, color='b')\n",
    "plt.axvline(0, color='b')\n",
    "\n",
    "fn = lambda x: 1*x + 1 # Line(1, -1, 1) \n",
    "\n",
    "l = ar.Feature(1, 1)\n",
    "xs = range(-10, 10)\n",
    "ys = [ar.actual_y(x, l) for x in xs]\n",
    "\n",
    "p = ar.Point(0, 0)\n",
    "ax.plot(xs, ys, label='y')\n",
    "plt.plot(p.x, p.y, \"s\")\n",
    "\n",
    "ax.set_title('Function (1*x + 1)')\n",
    "ax.set_xlabel('X')\n",
    "ax.set_ylabel('Y')\n",
    "ax.legend()\n",
    "\n",
    "print(f\"Distance P(0, 0) from Line : is {ar.distance(p, l)}\")\n"
   ]
  },
  {
   "cell_type": "code",
   "execution_count": null,
   "id": "542115b1b3d97e3a",
   "metadata": {
    "ExecuteTime": {
     "end_time": "2024-05-24T11:20:46.866226Z",
     "start_time": "2024-05-24T11:20:46.862860Z"
    },
    "collapsed": false,
    "jupyter": {
     "outputs_hidden": false
    }
   },
   "outputs": [],
   "source": []
  }
 ],
 "metadata": {
  "kernelspec": {
   "display_name": "Python 3 (ipykernel)",
   "language": "python",
   "name": "python3"
  },
  "language_info": {
   "codemirror_mode": {
    "name": "ipython",
    "version": 3
   },
   "file_extension": ".py",
   "mimetype": "text/x-python",
   "name": "python",
   "nbconvert_exporter": "python",
   "pygments_lexer": "ipython3",
   "version": "3.12.4"
  }
 },
 "nbformat": 4,
 "nbformat_minor": 5
}
