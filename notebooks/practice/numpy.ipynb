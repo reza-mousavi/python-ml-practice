{
 "cells": [
  {
   "cell_type": "code",
   "execution_count": null,
   "id": "initial_id",
   "metadata": {
    "collapsed": true
   },
   "outputs": [],
   "source": [
    "# Numpy"
   ]
  },
  {
   "cell_type": "code",
   "outputs": [
    {
     "name": "stdout",
     "output_type": "stream",
     "text": [
      "np.dot(a, b) =  2501072.5817\n",
      "Vectorized version duration: 5.1222 ms \n",
      "my_dot(a, b) =  2501072.5817\n",
      "loop version duration: 3152.1828 ms \n"
     ]
    }
   ],
   "source": [
    "import numpy as np\n",
    "import time \n",
    "\n",
    "\n",
    "def my_dot(a, b): \n",
    "    \"\"\"\n",
    "   Compute the dot product of two vectors\n",
    " \n",
    "    Args:\n",
    "      a (ndarray (n,)):  input vector \n",
    "      b (ndarray (n,)):  input vector with same dimension as a\n",
    "    \n",
    "    Returns:\n",
    "      x (scalar): \n",
    "    \"\"\"\n",
    "    x=0\n",
    "    for i in range(a.shape[0]):\n",
    "        x = x + a[i] * b[i]\n",
    "    return x\n",
    "\n",
    "np.random.seed(1)\n",
    "a = np.random.rand(10000000)  # very large arrays\n",
    "b = np.random.rand(10000000)\n",
    "\n",
    "tic = time.time()  # capture start time\n",
    "c = np.dot(a, b)\n",
    "toc = time.time()  # capture end time\n",
    "\n",
    "print(f\"np.dot(a, b) =  {c:.4f}\")\n",
    "print(f\"Vectorized version duration: {1000*(toc-tic):.4f} ms \")\n",
    "\n",
    "tic = time.time()  # capture start time\n",
    "c = my_dot(a,b)\n",
    "toc = time.time()  # capture end time\n",
    "\n",
    "print(f\"my_dot(a, b) =  {c:.4f}\")\n",
    "print(f\"loop version duration: {1000*(toc-tic):.4f} ms \")\n",
    "\n",
    "del(a);del(b)  #remove these big arrays from memory"
   ],
   "metadata": {
    "collapsed": false,
    "ExecuteTime": {
     "end_time": "2024-05-23T12:52:04.596969Z",
     "start_time": "2024-05-23T12:52:01.161191Z"
    }
   },
   "id": "335868b21597350a",
   "execution_count": 1
  },
  {
   "cell_type": "markdown",
   "source": [
    "## Creation\n",
    "\n",
    "You can create arrays in different ways\n",
    "- from List\n",
    "- from zero\n",
    "- from a range\n",
    "- from random"
   ],
   "metadata": {
    "collapsed": false
   },
   "id": "a8ec79f183b6ab13"
  },
  {
   "cell_type": "code",
   "outputs": [
    {
     "name": "stdout",
     "output_type": "stream",
     "text": [
      "Array of list (4) as : [4 1 2 3]\n",
      "Array of list (4) as : [0. 0. 0. 0.]\n",
      "Array of range (4) as : [1 3 5 7 9]\n"
     ]
    }
   ],
   "source": [
    "import numpy as np\n",
    "\n",
    "arr = np.array([4, 1, 2, 3])\n",
    "print(f\"Array of list (4) as : {arr}\")\n",
    "\n",
    "arr = np.zeros((4))\n",
    "print(f\"Array of list (4) as : {arr}\")\n",
    "\n",
    "arr = np.arange(1, 10, 2)\n",
    "print(f\"Array of range (4) as : {arr}\")"
   ],
   "metadata": {
    "collapsed": false,
    "ExecuteTime": {
     "end_time": "2024-05-24T10:00:47.233101Z",
     "start_time": "2024-05-24T10:00:47.228060Z"
    }
   },
   "id": "f8cdb8132501116e",
   "execution_count": 16
  },
  {
   "cell_type": "markdown",
   "source": [
    "## Zeros\n",
    "\n",
    "Helps to create and array of Zeros using shape function"
   ],
   "metadata": {
    "collapsed": false
   },
   "id": "6676599cba078b34"
  },
  {
   "cell_type": "code",
   "outputs": [
    {
     "name": "stdout",
     "output_type": "stream",
     "text": [
      "Array of zeros (4) as : [0. 0. 0. 0.]\n",
      "Array of zeros (4, ) as : [0. 0. 0. 0.]\n",
      "Array of zeros (1, 4) as : [[0. 0. 0. 0.]]\n",
      "Array of zeros (5, ) of int as : [0 0 0 0 0]\n",
      "Array of zeros (4, 1) as : [[0.]\n",
      " [0.]\n",
      " [0.]\n",
      " [0.]]\n",
      "Array of zeros (4, 2) as : [[0. 0.]\n",
      " [0. 0.]\n",
      " [0. 0.]\n",
      " [0. 0.]]\n"
     ]
    }
   ],
   "source": [
    "import numpy as np\n",
    "\n",
    "arr = np.zeros(4)\n",
    "print(f\"Array of zeros (4) as : {arr}\")\n",
    "\n",
    "arr = np.zeros((4, ))\n",
    "print(f\"Array of zeros (4, ) as : {arr}\")\n",
    "\n",
    "arr = np.zeros((1, 4))\n",
    "print(f\"Array of zeros (1, 4) as : {arr}\")\n",
    "\n",
    "arr = np.zeros((5,), dtype=int)\n",
    "print(f\"Array of zeros (5, ) of int as : {arr}\")\n",
    "\n",
    "arr = np.zeros((4, 1))\n",
    "print(f\"Array of zeros (4, 1) as : {arr}\")\n",
    "\n",
    "arr = np.zeros((4, 2))\n",
    "print(f\"Array of zeros (4, 2) as : {arr}\")\n"
   ],
   "metadata": {
    "collapsed": false,
    "ExecuteTime": {
     "end_time": "2024-05-24T09:55:45.289635Z",
     "start_time": "2024-05-24T09:55:45.283071Z"
    }
   },
   "id": "d7a00aa79599a4ae",
   "execution_count": 12
  },
  {
   "cell_type": "code",
   "outputs": [
    {
     "name": "stdout",
     "output_type": "stream",
     "text": [
      "Array of range (100) as : (1000,)\n",
      "Array of range (100) as : (50, 20)\n",
      "Array of range (100) as : (4, 250)\n",
      "1\n",
      "[  0   1   2   3   4   5   6   7   8   9  10  11  12  13  14  15  16  17\n",
      "  18  19  20  21  22  23  24  25  26  27  28  29  30  31  32  33  34  35\n",
      "  36  37  38  39  40  41  42  43  44  45  46  47  48  49  50  51  52  53\n",
      "  54  55  56  57  58  59  60  61  62  63  64  65  66  67  68  69  70  71\n",
      "  72  73  74  75  76  77  78  79  80  81  82  83  84  85  86  87  88  89\n",
      "  90  91  92  93  94  95  96  97  98  99 100 101 102 103 104 105 106 107\n",
      " 108 109 110 111 112 113 114 115 116 117 118 119 120 121 122 123 124 125\n",
      " 126 127 128 129 130 131 132 133 134 135 136 137 138 139 140 141 142 143\n",
      " 144 145 146 147 148 149 150 151 152 153 154 155 156 157 158 159 160 161\n",
      " 162 163 164 165 166 167 168 169 170 171 172 173 174 175 176 177 178 179\n",
      " 180 181 182 183 184 185 186 187 188 189 190 191 192 193 194 195 196 197\n",
      " 198 199 200 201 202 203 204 205 206 207 208 209 210 211 212 213 214 215\n",
      " 216 217 218 219 220 221 222 223 224 225 226 227 228 229 230 231 232 233\n",
      " 234 235 236 237 238 239 240 241 242 243 244 245 246 247 248 249]\n",
      "[0.         0.00392157 0.00784314 0.01176471 0.01568627 0.01960784\n",
      " 0.02352941 0.02745098 0.03137255 0.03529412 0.03921569 0.04313725\n",
      " 0.04705882 0.05098039 0.05490196 0.05882353 0.0627451  0.06666667\n",
      " 0.07058824 0.0745098  0.07843137 0.08235294 0.08627451 0.09019608\n",
      " 0.09411765 0.09803922 0.10196078 0.10588235 0.10980392 0.11372549\n",
      " 0.11764706 0.12156863 0.1254902  0.12941176 0.13333333 0.1372549\n",
      " 0.14117647 0.14509804 0.14901961 0.15294118 0.15686275 0.16078431\n",
      " 0.16470588 0.16862745 0.17254902 0.17647059 0.18039216 0.18431373\n",
      " 0.18823529 0.19215686 0.19607843 0.2        0.20392157 0.20784314\n",
      " 0.21176471 0.21568627 0.21960784 0.22352941 0.22745098 0.23137255\n",
      " 0.23529412 0.23921569 0.24313725 0.24705882 0.25098039 0.25490196\n",
      " 0.25882353 0.2627451  0.26666667 0.27058824 0.2745098  0.27843137\n",
      " 0.28235294 0.28627451 0.29019608 0.29411765 0.29803922 0.30196078\n",
      " 0.30588235 0.30980392 0.31372549 0.31764706 0.32156863 0.3254902\n",
      " 0.32941176 0.33333333 0.3372549  0.34117647 0.34509804 0.34901961\n",
      " 0.35294118 0.35686275 0.36078431 0.36470588 0.36862745 0.37254902\n",
      " 0.37647059 0.38039216 0.38431373 0.38823529 0.39215686 0.39607843\n",
      " 0.4        0.40392157 0.40784314 0.41176471 0.41568627 0.41960784\n",
      " 0.42352941 0.42745098 0.43137255 0.43529412 0.43921569 0.44313725\n",
      " 0.44705882 0.45098039 0.45490196 0.45882353 0.4627451  0.46666667\n",
      " 0.47058824 0.4745098  0.47843137 0.48235294 0.48627451 0.49019608\n",
      " 0.49411765 0.49803922 0.50196078 0.50588235 0.50980392 0.51372549\n",
      " 0.51764706 0.52156863 0.5254902  0.52941176 0.53333333 0.5372549\n",
      " 0.54117647 0.54509804 0.54901961 0.55294118 0.55686275 0.56078431\n",
      " 0.56470588 0.56862745 0.57254902 0.57647059 0.58039216 0.58431373\n",
      " 0.58823529 0.59215686 0.59607843 0.6        0.60392157 0.60784314\n",
      " 0.61176471 0.61568627 0.61960784 0.62352941 0.62745098 0.63137255\n",
      " 0.63529412 0.63921569 0.64313725 0.64705882 0.65098039 0.65490196\n",
      " 0.65882353 0.6627451  0.66666667 0.67058824 0.6745098  0.67843137\n",
      " 0.68235294 0.68627451 0.69019608 0.69411765 0.69803922 0.70196078\n",
      " 0.70588235 0.70980392 0.71372549 0.71764706 0.72156863 0.7254902\n",
      " 0.72941176 0.73333333 0.7372549  0.74117647 0.74509804 0.74901961\n",
      " 0.75294118 0.75686275 0.76078431 0.76470588 0.76862745 0.77254902\n",
      " 0.77647059 0.78039216 0.78431373 0.78823529 0.79215686 0.79607843\n",
      " 0.8        0.80392157 0.80784314 0.81176471 0.81568627 0.81960784\n",
      " 0.82352941 0.82745098 0.83137255 0.83529412 0.83921569 0.84313725\n",
      " 0.84705882 0.85098039 0.85490196 0.85882353 0.8627451  0.86666667\n",
      " 0.87058824 0.8745098  0.87843137 0.88235294 0.88627451 0.89019608\n",
      " 0.89411765 0.89803922 0.90196078 0.90588235 0.90980392 0.91372549\n",
      " 0.91764706 0.92156863 0.9254902  0.92941176 0.93333333 0.9372549\n",
      " 0.94117647 0.94509804 0.94901961 0.95294118 0.95686275 0.96078431\n",
      " 0.96470588 0.96862745 0.97254902 0.97647059]\n"
     ]
    }
   ],
   "source": [
    "## Reshape\n",
    "import numpy as np\n",
    "\n",
    "org = np.arange(0, 1000)\n",
    "print(f\"Array of range (100) as : {org.shape}\")\n",
    "arr = org.reshape((50, 20))\n",
    "print(f\"Array of range (100) as : {arr.shape}\")\n",
    "arr = org.reshape((4, 250))\n",
    "print(f\"Array of range (100) as : {arr.shape}\")\n",
    "print(arr[0, 1])\n",
    "print(arr[0])\n",
    "print(arr[0]/255)\n"
   ],
   "metadata": {
    "collapsed": false,
    "ExecuteTime": {
     "end_time": "2024-05-24T10:03:42.058680Z",
     "start_time": "2024-05-24T10:03:42.051835Z"
    }
   },
   "id": "2f7dd409eb565882",
   "execution_count": 23
  },
  {
   "cell_type": "markdown",
   "source": [
    "## Operations\n",
    "\n",
    "Arrays are like other datatypes and according to their mathematical difinition, they should support the following operations\n",
    "- Addition (Two Arrays, Scalars)\n",
    "- Subtract (Two Arrays, Scalars)\n",
    "- Multiplication (Two Arrays, Scalars)\n",
    "- Division (Two Arrays, Scalars)\n",
    "- Power (Two Arrays, Scalars)\n"
   ],
   "metadata": {
    "collapsed": false
   },
   "id": "4daa7ac4aa547fca"
  },
  {
   "cell_type": "code",
   "outputs": [
    {
     "name": "stdout",
     "output_type": "stream",
     "text": [
      "[ 0  2  4  6  8 10 12 14 16 18]\n",
      "[ 1  3  5  7  9 11 13 15 17 19]\n",
      "[10 12 14 16 18 20 22 24 26 28]\n",
      "[-10  -8  -6  -4  -2   0   2   4   6   8]\n",
      "[  0  20  40  60  80 100 120 140 160 180]\n",
      "[0.  0.2 0.4 0.6 0.8 1.  1.2 1.4 1.6 1.8]\n",
      "[ 1  5  9 13 17 21 25 29 33 37]\n",
      "[  0   6  20  42  72 110 156 210 272 342]\n",
      "[0.         0.66666667 0.8        0.85714286 0.88888889 0.90909091\n",
      " 0.92307692 0.93333333 0.94117647 0.94736842]\n",
      "[  0   4  16  36  64 100 144 196 256 324]\n"
     ]
    }
   ],
   "source": [
    "arr1 = np.arange(0, 20, 2)\n",
    "arr2 = np.arange(1, 20, 2)\n",
    "print(arr1)\n",
    "print(arr2)\n",
    "print(arr1 + 10) #scalar\n",
    "print(arr1 - 10) #scalar\n",
    "print(arr1 * 10) #scalar\n",
    "print(arr1 / 10) #scalar\n",
    "print(arr1 + arr2) # adding arrays\n",
    "print(arr1 * arr2) # multiplying arrays\n",
    "print(arr1 / arr2) # dividing arrays\n",
    "print(arr1 ** 2) # multiplying arrays"
   ],
   "metadata": {
    "collapsed": false,
    "ExecuteTime": {
     "end_time": "2024-05-24T10:47:34.474624Z",
     "start_time": "2024-05-24T10:47:34.469374Z"
    }
   },
   "id": "3d83f7b5c6bf3859",
   "execution_count": 31
  },
  {
   "cell_type": "markdown",
   "source": [
    "## Matrix\n"
   ],
   "metadata": {
    "collapsed": false
   },
   "id": "1b93ecf23cc22e23"
  },
  {
   "cell_type": "code",
   "outputs": [
    {
     "name": "stdout",
     "output_type": "stream",
     "text": [
      "[ 0  1  2  3  4  5  6  7  8  9 10 11 12 13 14 15 16 17 18 19]\n",
      "[20 21 22 23 24 25 26 27 28 29 30 31 32 33 34 35 36 37 38 39]\n",
      "result (  1 *  1 ) : 6270\n",
      "[ 0  1  2  3  4  5  6  7  8  9 10 11 12 13 14 15 16 17 18 19]\n",
      "[20 21 22 23 24 25 26 27 28 29 30 31 32 33 34 35 36 37 38 39]\n",
      "result (  1 *  1 ) : [6270]\n",
      "[[ 0  1  2  3  4]\n",
      " [ 5  6  7  8  9]\n",
      " [10 11 12 13 14]\n",
      " [15 16 17 18 19]]\n",
      "[[20 21 22 23]\n",
      " [24 25 26 27]\n",
      " [28 29 30 31]\n",
      " [32 33 34 35]\n",
      " [36 37 38 39]]\n",
      "result (  4 *  4 ) : [[ 320  330  340  350]\n",
      " [1020 1055 1090 1125]\n",
      " [1720 1780 1840 1900]\n",
      " [2420 2505 2590 2675]]\n"
     ]
    }
   ],
   "source": [
    "arr1 = np.arange(0, 20)\n",
    "arr2 = np.arange(20, 40)\n",
    "print(arr1)\n",
    "print(arr2)\n",
    "\n",
    "arr3 = arr1.dot(arr2) # 1*1 #Sum(i * j)\n",
    "print(f\"result (  1 *  1 ) : {arr3}\") \n",
    "\n",
    "arr2_t = arr2.reshape((20, 1))\n",
    "arr3 = arr1.dot(arr2_t) # 1*1 : Matrix\n",
    "print(arr1)\n",
    "print(arr2)\n",
    "print(f\"result (  1 *  1 ) : {arr3}\") \n",
    "\n",
    "arr1 = arr1.reshape((4, 5))\n",
    "arr2 = arr2.reshape((5, 4))\n",
    "\n",
    "print(arr1)\n",
    "print(arr2)\n",
    "print(f\"result (  4 *  4 ) : {arr1.dot(arr2)}\") \n"
   ],
   "metadata": {
    "collapsed": false,
    "ExecuteTime": {
     "end_time": "2024-05-24T10:54:20.101961Z",
     "start_time": "2024-05-24T10:54:20.095806Z"
    }
   },
   "id": "596e958706885e02",
   "execution_count": 39
  },
  {
   "cell_type": "code",
   "outputs": [
    {
     "name": "stdout",
     "output_type": "stream",
     "text": [
      "[ 0  1  2  3  4  5  6  7  8  9 10 11 12 13 14 15 16 17 18 19]\n",
      "[20 21 22 23 24 25 26 27 28 29 30 31 32 33 34 35 36 37 38 39]\n",
      "6270\n"
     ]
    }
   ],
   "source": [
    "arr1 = arr1.reshape((4, 5))\n",
    "arr2 = arr2.reshape((5, 4))\n",
    "arr3 = arr1.dot(arr2) # 4*4\n",
    "\n",
    "print(arr1)\n",
    "print(arr2)\n",
    "print(arr3)"
   ],
   "metadata": {
    "collapsed": false,
    "ExecuteTime": {
     "end_time": "2024-05-24T10:50:23.964322Z",
     "start_time": "2024-05-24T10:50:23.959817Z"
    }
   },
   "id": "e79ebd3f768dc560",
   "execution_count": 35
  },
  {
   "cell_type": "code",
   "outputs": [],
   "source": [],
   "metadata": {
    "collapsed": false
   },
   "id": "f8843fc7479288cf"
  }
 ],
 "metadata": {
  "kernelspec": {
   "display_name": "Python 3",
   "language": "python",
   "name": "python3"
  },
  "language_info": {
   "codemirror_mode": {
    "name": "ipython",
    "version": 2
   },
   "file_extension": ".py",
   "mimetype": "text/x-python",
   "name": "python",
   "nbconvert_exporter": "python",
   "pygments_lexer": "ipython2",
   "version": "2.7.6"
  }
 },
 "nbformat": 4,
 "nbformat_minor": 5
}
