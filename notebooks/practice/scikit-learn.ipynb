{
 "cells": [
  {
   "cell_type": "markdown",
   "source": [
    "# Scikit-learn"
   ],
   "metadata": {
    "collapsed": false
   },
   "id": "6d760fe9aae7ac34"
  },
  {
   "cell_type": "code",
   "outputs": [
    {
     "name": "stdout",
     "output_type": "stream",
     "text": [
      "Version is : 1.5.0\n"
     ]
    }
   ],
   "source": [
    "import sklearn\n",
    "\n",
    "print(f\"Version is : {sklearn.__version__}\")"
   ],
   "metadata": {
    "collapsed": false,
    "ExecuteTime": {
     "end_time": "2024-05-23T10:43:02.390409Z",
     "start_time": "2024-05-23T10:43:01.391660Z"
    }
   },
   "id": "b1af1872df55ad7b",
   "execution_count": 1
  },
  {
   "cell_type": "code",
   "outputs": [
    {
     "name": "stdout",
     "output_type": "stream",
     "text": [
      "Result coef : [[1.05892562]] and intercept is [0.76428719]\n"
     ]
    }
   ],
   "source": [
    "from sklearn import linear_model\n",
    "\n",
    "reg = linear_model.LinearRegression()\n",
    "\n",
    "xs = [[-9], [-7.5], [-5], [3], [4], [5], [6], [7.5]]\n",
    "ys = [[-10.3], [-5], [-4.75], [2], [5], [7], [8.3], [8.1]]\n",
    "\n",
    "reg.fit(xs, ys)\n",
    "\n",
    "print(f\"Result coef : {reg.coef_} and intercept is {reg.intercept_}\")\n"
   ],
   "metadata": {
    "collapsed": false,
    "ExecuteTime": {
     "end_time": "2024-05-23T11:04:11.629584Z",
     "start_time": "2024-05-23T11:04:11.623734Z"
    }
   },
   "id": "bf87cbad7db44ef",
   "execution_count": 18
  },
  {
   "cell_type": "code",
   "outputs": [
    {
     "name": "stdout",
     "output_type": "stream",
     "text": [
      "Result is : [[1.05889062]]\n",
      "Result is : [0.76430469]\n"
     ]
    }
   ],
   "source": [
    "from sklearn import linear_model\n",
    "\n",
    "reg = linear_model.Ridge(alpha=.01)\n",
    "\n",
    "xs = [[-9], [-7.5], [-5], [3], [4], [5], [6], [7.5]]\n",
    "ys = [[-10.3], [-5], [-4.75], [2], [5], [7], [8.3], [8.1]]\n",
    "\n",
    "reg.fit(xs, ys)\n",
    "\n",
    "print(f\"Result is : {reg.coef_}\")\n",
    "print(f\"Result is : {reg.intercept_}\")"
   ],
   "metadata": {
    "collapsed": false,
    "ExecuteTime": {
     "end_time": "2024-05-23T11:04:41.799945Z",
     "start_time": "2024-05-23T11:04:41.794649Z"
    }
   },
   "id": "483e8c0c2f23600b",
   "execution_count": 21
  },
  {
   "cell_type": "markdown",
   "source": [
    "## More info\n",
    "\n",
    "https://scikit-learn.org/stable/install.html\n",
    "https://scikit-learn.org/stable/modules/linear_model.html#ordinary-least-squares"
   ],
   "metadata": {
    "collapsed": false
   },
   "id": "71f128d0ca22c2b"
  }
 ],
 "metadata": {
  "kernelspec": {
   "display_name": "Python 3",
   "language": "python",
   "name": "python3"
  },
  "language_info": {
   "codemirror_mode": {
    "name": "ipython",
    "version": 2
   },
   "file_extension": ".py",
   "mimetype": "text/x-python",
   "name": "python",
   "nbconvert_exporter": "python",
   "pygments_lexer": "ipython2",
   "version": "2.7.6"
  }
 },
 "nbformat": 4,
 "nbformat_minor": 5
}
